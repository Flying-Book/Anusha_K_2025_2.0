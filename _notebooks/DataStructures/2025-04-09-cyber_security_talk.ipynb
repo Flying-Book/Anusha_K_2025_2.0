{
 "cells": [
  {
   "cell_type": "markdown",
   "id": "0a68d442",
   "metadata": {},
   "source": [
    "---\n",
    "layout: post\n",
    "title: Cyber Security Extra Credit\n",
    "description: Continue with Classes, Queues, performing Sorts and BigO analysis on your algorithm(s).\n",
    "permalink: /cyber_security_panel\n",
    "toc: false\n",
    "comments: true\n",
    "---"
   ]
  },
  {
   "cell_type": "markdown",
   "id": "8a71c38f",
   "metadata": {
    "vscode": {
     "languageId": "java"
    }
   },
   "source": [
    "### Real-World Threats\n",
    "- Internal Threats (be curious about unusual internal behavior)\n",
    "- Phishing (Individual Level)\n",
    "- Intellectual Property Loss (Company Level)\n",
    "- Backdoors/0-days\n",
    "- Ransomware (All levels)\n",
    "\n",
    "### Cybersecurity Careers\n",
    "- Defensive Roles\n",
    "- White Hat Hackers (Ethical hackers who test systems for vulnerabilities)\n",
    "- Threat Detection:\n",
    "\n",
    "### Best Practices to Remember\n",
    "- Keep Learning: Cyber threats evolve, and so should your knowledge.\n",
    "- Be Skeptical: Speak up about anything suspicious\n",
    "- Follow basic practices like strong passwords, updates, and two-factor authentication.\n",
    "\n",
    "### Personal Notes for CSA Project\n",
    "- Hide your webhooks and tokens—never commit them directly into files.\n",
    "- Explore safety certifications like A+ and C+ to boost your foundational knowledge."
   ]
  },
  {
   "cell_type": "code",
   "execution_count": null,
   "id": "3e482969",
   "metadata": {
    "vscode": {
     "languageId": "plaintext"
    }
   },
   "outputs": [],
   "source": [
    "![Image](https://github.com/user-attachments/assets/899c56c8-336b-492a-8849-c30b06c9543d)"
   ]
  }
 ],
 "metadata": {
  "language_info": {
   "name": "python"
  }
 },
 "nbformat": 4,
 "nbformat_minor": 5
}
